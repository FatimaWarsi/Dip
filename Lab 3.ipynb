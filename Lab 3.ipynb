{
 "cells": [
  {
   "cell_type": "code",
   "execution_count": 2,
   "metadata": {
    "collapsed": true
   },
   "outputs": [],
   "source": [
    "#1.\tWrite a program to generate a dictionary that contains (i,sqrt(i)),\n",
    "#where i is an integer between 1 and n. n is a number input by the user."
   ]
  },
  {
   "cell_type": "code",
   "execution_count": 7,
   "metadata": {
    "collapsed": false
   },
   "outputs": [
    {
     "name": "stdout",
     "output_type": "stream",
     "text": [
      "Enter Value: 5\n",
      "{1: 1.0, 2: 1.4142135623730951, 3: 1.7320508075688772, 4: 2.0, 5: 2.23606797749979}\n"
     ]
    }
   ],
   "source": [
    "dict={}\n",
    "n = int(input(\"Enter Value: \"))\n",
    "for i in range(1,n+1):\n",
    "    #dict = i\n",
    "    dict[i] = i**0.5\n",
    "print(dict)"
   ]
  },
  {
   "cell_type": "code",
   "execution_count": null,
   "metadata": {
    "collapsed": true
   },
   "outputs": [],
   "source": [
    "#Write a simple calculator program using functions add, sub, mul and div. \n",
    "#The program should accepts two numbers and an operator and calls the corresponding function to perform the operation"
   ]
  },
  {
   "cell_type": "code",
   "execution_count": 13,
   "metadata": {
    "collapsed": false
   },
   "outputs": [
    {
     "name": "stdout",
     "output_type": "stream",
     "text": [
      "Enter Number1: 33\n",
      "Enter Number2: 2\n",
      "Enter Operator: +\n",
      "35\n"
     ]
    }
   ],
   "source": [
    "def Add(a,b):\n",
    "    return a+b\n",
    "def Sub(a,b):\n",
    "    return a-b\n",
    "def Mul(a,b):\n",
    "    return a*b\n",
    "def Div(a,b):\n",
    "    return a/b\n",
    "\n",
    "n1 = int(input(\"Enter Number1: \"))\n",
    "n2 = int(input(\"Enter Number2: \"))\n",
    "op = input(\"Enter Operator: \")\n",
    "if(op == '+'):\n",
    "    print(Add(n1,n2))\n",
    "elif(op == '-'):\n",
    "    print(Sub(n1,n2))\n",
    "elif(op == '*'):\n",
    "    print(Mul(n1,n2))\n",
    "elif(op == '/'):\n",
    "    print(Div(n1,n2))\n",
    "else:\n",
    "    print(\"Wrong operator\")"
   ]
  },
  {
   "cell_type": "code",
   "execution_count": 14,
   "metadata": {
    "collapsed": true
   },
   "outputs": [],
   "source": [
    "##3.\tWrite a function that generates a list with values that are square of number between 1 and 20."
   ]
  },
  {
   "cell_type": "code",
   "execution_count": 16,
   "metadata": {
    "collapsed": false
   },
   "outputs": [
    {
     "name": "stdout",
     "output_type": "stream",
     "text": [
      "{1: 1, 2: 4, 3: 9, 4: 16, 5: 25, 6: 36, 7: 49, 8: 64, 9: 81, 10: 100, 11: 121, 12: 144, 13: 169, 14: 196, 15: 225, 16: 256, 17: 289, 18: 324, 19: 361, 20: 400}\n"
     ]
    }
   ],
   "source": [
    "dict={}\n",
    "for i in range(1,21):\n",
    "    dict[i] = i**2\n",
    "print(dict)"
   ]
  },
  {
   "cell_type": "code",
   "execution_count": 19,
   "metadata": {
    "collapsed": false
   },
   "outputs": [],
   "source": [
    "###4.\tDefine a class named Shape with static method printType.\n",
    "#Define methods draw() and area(). \n",
    "#Now define two class Rectangle and Triangle.\n",
    "#Rectangle has two attributes length and width. \n",
    "#The Triangle class has attributes a,b and c. \n",
    "#Override the two methods of shape class. Demonstrate the functionality of class by creating its objects."
   ]
  },
  {
   "cell_type": "code",
   "execution_count": 16,
   "metadata": {
    "collapsed": false
   },
   "outputs": [],
   "source": [
    "class Shape:\n",
    "    def _init_ (self):\n",
    "        print(\"Corner of shape\")\n",
    "    def Color(self):\n",
    "        print(\"Color\")\n",
    "    @staticmethod\n",
    "\n",
    "    def Draw(self):\n",
    "        print(Draw)\n"
   ]
  },
  {
   "cell_type": "code",
   "execution_count": 18,
   "metadata": {
    "collapsed": false
   },
   "outputs": [
    {
     "name": "stdout",
     "output_type": "stream",
     "text": [
      "Color\n",
      "28\n"
     ]
    }
   ],
   "source": [
    "class Triangle:\n",
    "    def Draw(self):\n",
    "        print(\"Drawing Triangle\")\n",
    "    def Area(self,a,b):\n",
    "        A = a+b\n",
    "        return A \n",
    "s = Shape()\n",
    "s.Color()\n",
    "t = Triangle()\n",
    "print(t.Area(23,5))"
   ]
  },
  {
   "cell_type": "code",
   "execution_count": 19,
   "metadata": {
    "collapsed": false,
    "scrolled": true
   },
   "outputs": [],
   "source": [
    "##5.\tUsing recursion, write a program to calculate the reverse of a string"
   ]
  },
  {
   "cell_type": "code",
   "execution_count": 41,
   "metadata": {
    "collapsed": false
   },
   "outputs": [
    {
     "name": "stdout",
     "output_type": "stream",
     "text": [
      "amitaF si eman yM\n"
     ]
    }
   ],
   "source": [
    "def rreverse(s):\n",
    "    if s == \"\":\n",
    "        return s\n",
    "    else:\n",
    "        return rreverse(s[1:]) + s[0]\n",
    "\n",
    "str = \"My name is Fatima\"\n",
    "print(rreverse(str))"
   ]
  },
  {
   "cell_type": "code",
   "execution_count": 1,
   "metadata": {
    "collapsed": false
   },
   "outputs": [
    {
     "name": "stdout",
     "output_type": "stream",
     "text": [
      "HELLO\n"
     ]
    }
   ],
   "source": [
    "s =\"Hello\"\n",
    "y = s.upper()\n",
    "print(y)"
   ]
  },
  {
   "cell_type": "code",
   "execution_count": 7,
   "metadata": {
    "collapsed": false
   },
   "outputs": [
    {
     "name": "stdout",
     "output_type": "stream",
     "text": [
      "Hello Warsi are how you\n"
     ]
    }
   ],
   "source": [
    "s = \"Hello Warsi how are you Warsi\"\n",
    "x = [wd for wd in s.split(\" \")]\n",
    "print(\" \".join(sorted(list(set(x)))))"
   ]
  },
  {
   "cell_type": "code",
   "execution_count": null,
   "metadata": {
    "collapsed": true
   },
   "outputs": [],
   "source": []
  }
 ],
 "metadata": {
  "anaconda-cloud": {},
  "kernelspec": {
   "display_name": "Python [Root]",
   "language": "python",
   "name": "Python [Root]"
  },
  "language_info": {
   "codemirror_mode": {
    "name": "ipython",
    "version": 3
   },
   "file_extension": ".py",
   "mimetype": "text/x-python",
   "name": "python",
   "nbconvert_exporter": "python",
   "pygments_lexer": "ipython3",
   "version": "3.5.2"
  }
 },
 "nbformat": 4,
 "nbformat_minor": 0
}
